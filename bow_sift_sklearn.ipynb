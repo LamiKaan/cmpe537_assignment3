{
 "cells": [
  {
   "cell_type": "code",
   "id": "initial_id",
   "metadata": {
    "collapsed": true,
    "ExecuteTime": {
     "end_time": "2024-12-10T01:03:06.737249Z",
     "start_time": "2024-12-10T01:03:06.734990Z"
    }
   },
   "source": [
    "import os\n",
    "import cv2\n",
    "import numpy as np\n",
    "import pickle\n",
    "from sklearn.cluster import KMeans"
   ],
   "outputs": [],
   "execution_count": 59
  },
  {
   "metadata": {
    "ExecuteTime": {
     "end_time": "2024-12-10T01:03:07.373101Z",
     "start_time": "2024-12-10T01:03:07.369786Z"
    }
   },
   "cell_type": "code",
   "source": [
    "def getImagePathsAndClassLabels(baseDir):\n",
    "    # Initialize lists to hold image paths and class labels\n",
    "    imagePaths = []\n",
    "    classLabels = []\n",
    "    \n",
    "    # Passing through each sub-directory (class labels) in the base directory\n",
    "    for classDir in os.listdir(baseDir):\n",
    "        # Get path of class directory\n",
    "        classPath = os.path.join(baseDir, classDir)\n",
    "        \n",
    "        # Ensure class path is a directory\n",
    "        if os.path.isdir(classPath):\n",
    "            \n",
    "            # For each image file in the class directory\n",
    "            for imageFile in os.listdir(classPath):\n",
    "                \n",
    "                # If the file is an image\n",
    "                if imageFile.endswith('.jpg'):\n",
    "                    \n",
    "                    # Add the image path to the list\n",
    "                    imagePaths.append(os.path.join(classPath, imageFile))\n",
    "                    # Add associated class label to the list\n",
    "                    classLabels.append(classDir)\n",
    "\n",
    "    return imagePaths, classLabels"
   ],
   "id": "454f05880c490a74",
   "outputs": [],
   "execution_count": 60
  },
  {
   "metadata": {
    "ExecuteTime": {
     "end_time": "2024-12-10T20:44:40.000775Z",
     "start_time": "2024-12-10T20:44:39.988789Z"
    }
   },
   "cell_type": "code",
   "source": [
    "def buildLafFromKeypoint(keypoint):\n",
    "    # Create an empty LAF matrix of shape (2,3)\n",
    "    laf = np.zeros((2, 3))\n",
    "\n",
    "    # Get laf scale using keypoint size (in opencv docs \"size\" property of keypoint object is defined as\n",
    "    # \"diameter of the meaningful keypoint neighborhood\", whereas in kornia, scale as interpreted as the radius\n",
    "    # from keypoint center, so we divide by 2)\n",
    "    scale = keypoint.size / 2\n",
    "    # Get laf angle using keypoint angle (convert to radians from degrees)\n",
    "    angle = np.deg2rad(keypoint.angle)\n",
    "    # Get keypoint center coordinates\n",
    "    x, y = keypoint.pt\n",
    "\n",
    "    # Set elements of the LAF matrix\n",
    "    laf[0, 0] = scale * np.cos(angle)\n",
    "    laf[0, 1] = -scale * np.sin(angle)\n",
    "    laf[1, 0] = scale * np.sin(angle)\n",
    "    laf[1, 1] = scale * np.cos(angle)\n",
    "    laf[0, 2] = x\n",
    "    laf[1, 2] = y\n",
    "\n",
    "    return laf"
   ],
   "id": "7b1104ca419fc8d6",
   "outputs": [],
   "execution_count": 2
  },
  {
   "metadata": {
    "ExecuteTime": {
     "end_time": "2024-12-10T20:44:54.677041Z",
     "start_time": "2024-12-10T20:44:54.671249Z"
    }
   },
   "cell_type": "code",
   "source": [
    "def performSIFT(imagePaths):\n",
    "    # Initialize keypoint LAF (local affine frame) and descriptor lists\n",
    "    keypointLAFs = []\n",
    "    descriptors = []\n",
    "\n",
    "    # Create sift feature extractor\n",
    "    sift = cv2.SIFT.create(nfeatures=64)\n",
    "\n",
    "    # For each image\n",
    "    for imagePath in imagePaths:\n",
    "        # Read image in grayscale\n",
    "        image = cv2.imread(imagePath, cv2.IMREAD_GRAYSCALE)\n",
    "\n",
    "        # Get keypoints and corresponding descriptors of the image\n",
    "        k, d = sift.detectAndCompute(image=image, mask=None)\n",
    "\n",
    "        # Extract keypoint LAFs from keypoint objects\n",
    "        # Kornia accepts LAFs of shape (2,3) where the 2x2 square part (0:2, 0:2) holds information about\n",
    "        # the scale and orientation, and last (third) column (0:2, 2) holds the LAF center (x, y coordinates of\n",
    "        # the SIFT keypoint object)\n",
    "        imageLAFs = None\n",
    "        for keypoint in k:\n",
    "            laf = buildLafFromKeypoint(keypoint)\n",
    "            laf = np.expand_dims(laf, axis=0)\n",
    "            imageLAFs = np.concatenate((imageLAFs, laf), axis=0) if imageLAFs is not None else laf\n",
    "\n",
    "        # Append to lists\n",
    "        keypointLAFs.append(imageLAFs)\n",
    "        descriptors.append(d)\n",
    "\n",
    "    return keypointLAFs, descriptors"
   ],
   "id": "6314f357994dd809",
   "outputs": [],
   "execution_count": 3
  },
  {
   "metadata": {
    "ExecuteTime": {
     "end_time": "2024-12-10T01:03:08.349462Z",
     "start_time": "2024-12-10T01:03:08.345870Z"
    }
   },
   "cell_type": "code",
   "source": [
    "def performKMeans(trainedModels, K, descriptors, clusterLabels, dirType):\n",
    "\n",
    "    if dirType == 'train':\n",
    "        # Stack all features from train images into a single input matrix\n",
    "        X = np.vstack(descriptors)\n",
    "        \n",
    "        # Create and train the model\n",
    "        model = KMeans(n_clusters=K, random_state=537, verbose=True)\n",
    "        model.fit(X)\n",
    "        \n",
    "        # Add the computed cluster labels for the current K\n",
    "        clusterLabels[K] = model.labels_\n",
    "        \n",
    "        # Add model to trained models\n",
    "        trainedModels[K] = model\n",
    "        \n",
    "    else:\n",
    "        # Stack features of test images\n",
    "        y = np.vstack(descriptors)\n",
    "        \n",
    "        # Get trained model\n",
    "        model = trainedModels[K]\n",
    "        \n",
    "        # Predict labels for test images, and add to dict for current K\n",
    "        labels = model.predict(y)\n",
    "        clusterLabels[K] = labels"
   ],
   "id": "ac0f4fa917ed6951",
   "outputs": [],
   "execution_count": 62
  },
  {
   "metadata": {
    "ExecuteTime": {
     "end_time": "2024-12-10T01:03:09.488578Z",
     "start_time": "2024-12-10T01:03:09.485151Z"
    }
   },
   "cell_type": "code",
   "source": [
    "def computeHistograms(K, descriptors, clusterLabels, histograms):\n",
    "    # Get cluster labels of all the features (for the current K = number of bins in histogram)\n",
    "    allLabels = clusterLabels[K]\n",
    "    \n",
    "    # Initialize an empty array to hold histograms of every image in the set\n",
    "    allHistograms = []\n",
    "    \n",
    "    # Last index checked in labels, start with 0\n",
    "    lastIndex = 0\n",
    "    \n",
    "    # For every image, get image's descriptor\n",
    "    for descriptor in descriptors:\n",
    "        # Get number of features in the SIFT descriptor of the image (=number of labels for the image)\n",
    "        labelCount = descriptor.shape[0]\n",
    "        # Index to check until for the image, in all labels\n",
    "        nextIndex = lastIndex + labelCount\n",
    "        # Get cluster labels for the current image\n",
    "        labels = allLabels[lastIndex:nextIndex]\n",
    "        # Initialize histogram for the image with current number of bins\n",
    "        histogram = np.zeros(K)\n",
    "        \n",
    "        # For each cluster label\n",
    "        for label in labels:\n",
    "            # Increase the number of words/features in current bag/bin by 1\n",
    "            histogram[label] += 1\n",
    "            \n",
    "        # Normalize histogram (make sum of elements = 1)\n",
    "        histogram = histogram / labelCount\n",
    "        # Add to list\n",
    "        allHistograms.append(histogram)\n",
    "        \n",
    "        # Update last index\n",
    "        lastIndex = nextIndex\n",
    "        \n",
    "    \n",
    "    # Save all histograms for the current K\n",
    "    histograms[K] = allHistograms"
   ],
   "id": "2ad37ba8a02c62ce",
   "outputs": [],
   "execution_count": 63
  },
  {
   "metadata": {
    "ExecuteTime": {
     "end_time": "2024-12-10T20:45:11.570488Z",
     "start_time": "2024-12-10T20:45:11.564622Z"
    }
   },
   "cell_type": "code",
   "source": [
    "def exportToFiles(imagePaths, classLabels, keypointLAFs, descriptors, histograms, prefix, outputDirPath, dirType):\n",
    "    fileNameOfImagePaths = f\"{prefix}_{dirType}_image_paths.pkl\"\n",
    "    filePathOfImagePaths = os.path.join(outputDirPath, fileNameOfImagePaths)\n",
    "    with open(filePathOfImagePaths, 'wb') as f:\n",
    "        pickle.dump(imagePaths, f)\n",
    "\n",
    "    fileNameOfClassLabels = f\"{prefix}_{dirType}_class_labels.pkl\"\n",
    "    filePathOfClassLabels = os.path.join(outputDirPath, fileNameOfClassLabels)\n",
    "    with open(filePathOfClassLabels, 'wb') as f:\n",
    "        pickle.dump(classLabels, f)\n",
    "\n",
    "    fileNameOfSiftKeypointLAFs = f\"{prefix}_{dirType}_sift_keypoint_LAFs.pkl\"\n",
    "    filePathOfSiftKeypointLAFs = os.path.join(outputDirPath, fileNameOfSiftKeypointLAFs)\n",
    "    with open(filePathOfSiftKeypointLAFs, 'wb') as f:\n",
    "        pickle.dump(keypointLAFs, f)\n",
    "\n",
    "    fileNameOfSiftDescriptors = f\"{prefix}_{dirType}_sift_descriptors.pkl\"\n",
    "    filePathOfSiftDescriptors = os.path.join(outputDirPath, fileNameOfSiftDescriptors)\n",
    "    with open(filePathOfSiftDescriptors, 'wb') as f:\n",
    "        pickle.dump(descriptors, f)\n",
    "\n",
    "    for K, allHistograms in histograms.items():\n",
    "        fileNameOfHistograms = f\"{prefix}_{dirType}_sift_histograms_{K}.pkl\"\n",
    "        filePathOfHistograms = os.path.join(outputDirPath, fileNameOfHistograms)\n",
    "        with open(filePathOfHistograms, 'wb') as f:\n",
    "            pickle.dump(allHistograms, f)"
   ],
   "id": "33f88498dcdd4e07",
   "outputs": [],
   "execution_count": 4
  },
  {
   "metadata": {
    "ExecuteTime": {
     "end_time": "2024-12-10T01:03:10.430603Z",
     "start_time": "2024-12-10T01:03:10.428576Z"
    }
   },
   "cell_type": "code",
   "source": [
    "# Get paths of Turcoin train and test directories\n",
    "prefix = \"turcoins\"\n",
    "dataSetName = \"TurCoins\"\n",
    "dirTypes = [\"train\", \"test\"]\n",
    "dirPaths = [f\"/Users/lkk/Documents/BOUN CMPE/CMPE 537-Computer Vision/Assignment3/Data/{dataSetName}/{dirTypes[0]}\",\n",
    "            f\"/Users/lkk/Documents/BOUN CMPE/CMPE 537-Computer Vision/Assignment3/Data/{dataSetName}/{dirTypes[1]}\"]\n",
    "outputDirPath = \"/Users/lkk/Documents/BOUN CMPE/CMPE 537-Computer Vision/Assignment3/ProducedData/100_64_sklearn\"\n",
    "# Number of cluster centers\n",
    "Ks = [500, 100, 50]\n",
    "trainedModels = {}"
   ],
   "id": "133f2a22fb70b992",
   "outputs": [],
   "execution_count": 65
  },
  {
   "metadata": {
    "ExecuteTime": {
     "end_time": "2024-12-09T20:47:50.909254Z",
     "start_time": "2024-12-09T20:47:18.005022Z"
    }
   },
   "cell_type": "code",
   "source": [
    "for i in range(0, len(dirTypes)):\n",
    "    # Get image paths and corresponding class labels\n",
    "    imagePaths, classLabels = getImagePathsAndClassLabels(dirPaths[i])\n",
    "\n",
    "    # Get SIFT keypoints and descriptors of images\n",
    "    keypoints, descriptors = performSIFT(imagePaths)\n",
    "\n",
    "    clusterLabels = {}\n",
    "    histograms = {}\n",
    "    for K in Ks:\n",
    "        # Get cluster labels of SIFT descriptors\n",
    "        performKMeans(trainedModels, K, descriptors, clusterLabels, dirTypes[i])\n",
    "        # Compute bow representation of images using cluster labels\n",
    "        computeHistograms(K, descriptors, clusterLabels, histograms)\n",
    "\n",
    "    # Export data to files\n",
    "    exportToFiles(imagePaths, classLabels, keypoints, descriptors, histograms, prefix, outputDirPath, dirTypes[i])"
   ],
   "id": "d712cf4b369800fb",
   "outputs": [],
   "execution_count": 25
  },
  {
   "metadata": {},
   "cell_type": "code",
   "outputs": [],
   "execution_count": null,
   "source": [
    "# Repeat for Caltech dataset\n",
    "prefix = \"caltech\"\n",
    "dataSetName = \"Caltech20\"\n",
    "dirPaths = [f\"/Users/lkk/Documents/BOUN CMPE/CMPE 537-Computer Vision/Assignment3/Data/{dataSetName}/{dirTypes[0]}\",\n",
    "            f\"/Users/lkk/Documents/BOUN CMPE/CMPE 537-Computer Vision/Assignment3/Data/{dataSetName}/{dirTypes[1]}\"]\n",
    "trainedModels = {}"
   ],
   "id": "e8e5aed17d59ac79"
  },
  {
   "metadata": {
    "ExecuteTime": {
     "end_time": "2024-12-10T01:04:20.075137Z",
     "start_time": "2024-12-10T01:03:16.702004Z"
    }
   },
   "cell_type": "code",
   "source": [
    "for i in range(0, len(dirTypes)):\n",
    "    # Get image paths and corresponding class labels\n",
    "    imagePaths, classLabels = getImagePathsAndClassLabels(dirPaths[i])\n",
    "\n",
    "    # Get SIFT keypoints and descriptors of images\n",
    "    keypoints, descriptors = performSIFT(imagePaths)\n",
    "\n",
    "    clusterLabels = {}\n",
    "    histograms = {}\n",
    "    for K in Ks:\n",
    "        # Get cluster labels of SIFT descriptors\n",
    "        performKMeans(trainedModels, K, descriptors, clusterLabels, dirTypes[i])\n",
    "        # Compute bow representation of images using cluster labels\n",
    "        computeHistograms(K, descriptors, clusterLabels, histograms)\n",
    "\n",
    "    # Export data to files\n",
    "    exportToFiles(imagePaths, classLabels, keypoints, descriptors, histograms, prefix, outputDirPath, dirTypes[i])"
   ],
   "id": "697e20f0803cc333",
   "outputs": [],
   "execution_count": 66
  },
  {
   "metadata": {},
   "cell_type": "code",
   "outputs": [],
   "execution_count": null,
   "source": "",
   "id": "481568f6794bbc2c"
  }
 ],
 "metadata": {
  "kernelspec": {
   "display_name": "Python 3",
   "language": "python",
   "name": "python3"
  },
  "language_info": {
   "codemirror_mode": {
    "name": "ipython",
    "version": 2
   },
   "file_extension": ".py",
   "mimetype": "text/x-python",
   "name": "python",
   "nbconvert_exporter": "python",
   "pygments_lexer": "ipython2",
   "version": "2.7.6"
  }
 },
 "nbformat": 4,
 "nbformat_minor": 5
}
